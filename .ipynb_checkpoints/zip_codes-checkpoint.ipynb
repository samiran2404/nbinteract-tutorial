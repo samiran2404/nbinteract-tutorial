{
 "cells": [
  {
   "cell_type": "code",
   "execution_count": 2,
   "metadata": {},
   "outputs": [
    {
     "data": {
      "application/vnd.jupyter.widget-view+json": {
       "model_id": "9fbaff93a0614601894f2d59c0138f7a",
       "version_major": 2,
       "version_minor": 0
      },
      "text/plain": [
       "interactive(children=(Text(value='10001', description='zipcode'), IntSlider(value=25, description='radius', ma…"
      ]
     },
     "metadata": {},
     "output_type": "display_data"
    },
    {
     "data": {
      "text/plain": [
       "<function __main__.get_zipcodes(zipcode, radius)>"
      ]
     },
     "execution_count": 2,
     "metadata": {},
     "output_type": "execute_result"
    }
   ],
   "source": [
    "import pandas as pd\n",
    "from ipywidgets import interact\n",
    "from pyzipcode import ZipCodeDatabase\n",
    "zcdb = ZipCodeDatabase()\n",
    "def get_zipcodes(zipcode,radius):    \n",
    "    zipcodes = [z.zip for z in zcdb.get_zipcodes_around_radius(zipcode,radius)]\n",
    "    print(zipcodes)\n",
    "\n",
    "interact(get_zipcodes,radius=(0,50,1),zipcode='10001')"
   ]
  }
 ],
 "metadata": {
  "kernelspec": {
   "display_name": "Python 3",
   "language": "python",
   "name": "python3"
  },
  "language_info": {
   "codemirror_mode": {
    "name": "ipython",
    "version": 3
   },
   "file_extension": ".py",
   "mimetype": "text/x-python",
   "name": "python",
   "nbconvert_exporter": "python",
   "pygments_lexer": "ipython3",
   "version": "3.7.2"
  },
  "widgets": {
   "application/vnd.jupyter.widget-state+json": {
    "state": {},
    "version_major": 2,
    "version_minor": 0
   }
  }
 },
 "nbformat": 4,
 "nbformat_minor": 2
}

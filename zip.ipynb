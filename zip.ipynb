{
 "cells": [
  {
   "cell_type": "code",
   "execution_count": 8,
   "metadata": {},
   "outputs": [],
   "source": [
    "#nbi:hide_in\n",
    "\n",
    "import pandas as pd\n",
    "import ipywidgets as widgets\n",
    "from IPython.display import display\n",
    "from pyzipcode import ZipCodeDatabase\n",
    "zcdb = ZipCodeDatabase()\n",
    "def get_zipcodes(zipcode,radius):\n",
    "    try:        \n",
    "       zipcodes = [z.zip for z in zcdb.get_zipcodes_around_radius(zipcode,radius)]\n",
    "       print(zipcodes)\n",
    "    except ZipNotFoundException:\n",
    "        print('x')\n",
    "\n",
    "r_slider = widgets.IntSlider(min=0, max=50,step=1,value=0)\n",
    "text_input = widgets.Text(value='10001',\n",
    "        placeholder=\"e.g.10001\",)\n",
    "\n",
    "\n",
    "widgets.interactive(get_zipcodes,radius=r_slider,zipcode=text_input)"
   ]
  },
  {
   "cell_type": "code",
   "execution_count": null,
   "metadata": {},
   "outputs": [],
   "source": []
  }
 ],
 "metadata": {
  "kernelspec": {
   "display_name": "Python 3",
   "language": "python",
   "name": "python3"
  },
  "language_info": {
   "codemirror_mode": {
    "name": "ipython",
    "version": 3
   },
   "file_extension": ".py",
   "mimetype": "text/x-python",
   "name": "python",
   "nbconvert_exporter": "python",
   "pygments_lexer": "ipython3",
   "version": "3.7.2"
  }
 },
 "nbformat": 4,
 "nbformat_minor": 2
}
